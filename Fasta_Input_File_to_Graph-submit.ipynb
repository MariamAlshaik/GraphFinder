{
 "cells": [
  {
   "cell_type": "markdown",
   "metadata": {},
   "source": [
    "# New tasks:\n",
    "- make a function that read a fasta file from disk and yields (header, seq) pairs +\n",
    "- ex from:\n",
    ">AB003409.1/96-167\n",
    "GGGCCCAUAGCUCAGUGGUAGAGUGCCUCCUUUGCAAGGAGGAUGCCCUGGGUUCGAAUC comment\n",
    "CCAGUGGGUCCA\n",
    ">AB009835.1/1-71\n",
    "CAUUAGAUGACUGAAAGCAAGUACUGGUCUCUUAAACCAUUUAAUAGUAAAUacagugcCUU\n",
    "CAUUAGAUGACUGAAAGCAAGUACUGGUCUCUUAAACCAUUUAAUAGUAAAUacagugcCUU\n",
    "CAUUAGAUGACUGAAAGCAAGUACUGGUCUCUUAAACCAUUUAAUAGUAAAUacagugcCUU\n",
    "CAUUAGAUGACUGAAAGCAAGUACUGGUCUCUUAAACCAUUUAAUAGUAAAUacagugcCUU\n",
    "- yield:\n",
    "(AB003409.1/96-167, GGGCCCAUAGCUCAGUGGUAGAGUGCCUCCUUUGCAAGGAGGAUGCCCUGGGUUCGAAUCCCAGUGGGUCCA)\n",
    "(AB009835.1/1-71,CAUUAGAUGACUGAAAGCAAGUACUGGUCUCUUAAACCAUUUAAUAGUAAAUacagugcCUUCAUUAGAUGACUGAAAGCAAGUACUGGUCUCUUAAACCAUUUAAUAGUAAAUacagugcCUUCAUUAGAUGACUGAAAGCAAGUACUGGUCUCUUAAACCAUUUAAUAGUAAAUacagugcCUUCAUUAGAUGACUGAAAGCAAGUACUGGUCUCUUAAACCAUUUAAUAGUAAAUacagugcCUU)\n",
    "\n",
    "- make a function that receives in input the list of sequences, and yields structure graphs +\n",
    "- make a function that receives a iterator over graphs and i,j and plots only graphs from num i to num j\n",
    "\n",
    "\n",
    "1. test if space or tab\n",
    "2. test if command (after a space or any latter exept 'aucg' or 'rnytkmswbdhvgu')\n",
    "3. test if new line without header then concatenate\n",
    "4. test if new line with header then new graph"
   ]
  },
  {
   "cell_type": "code",
   "execution_count": 112,
   "metadata": {
    "collapsed": false
   },
   "outputs": [],
   "source": [
    "%matplotlib inline\n",
    "import os, sys\n",
    "import subprocess as sp\n",
    "from itertools import cycle\n",
    "import networkx as nx\n",
    "import re\n",
    "from eden.util import display\n",
    "\n",
    "class FastaToGraph(object):\n",
    "    def __init__(self):\n",
    "        pass\n",
    "    \n",
    "    def SequeceWrapper(self, path):\n",
    "        #path = \"/home/alsheikm/Work/EDeN_examples/fastaFiles/\"\n",
    "        seq = self._readFastaFile(path)\n",
    "        seqs = self._removeCommands(seq)\n",
    "        print (\"path\", path)\n",
    "        return seqs\n",
    "    \n",
    "# read a fasta file separate the head and the sequence\n",
    "#    def _readFastaFile(self, file_name):\n",
    "    def _readFastaFile(self, path):\n",
    "#        path = \"/home/alsheikm/Work/EDeN_examples/fastaFiles/\"\n",
    "        head_start = '>'\n",
    "        head = []\n",
    "        seq = []\n",
    "        seq1 = []\n",
    "        string_seq =[]\n",
    "\n",
    "        for file in os.listdir(path):\n",
    "            #open file\n",
    "            read_file = open(os.path.join( path, file),'r')\n",
    "            \n",
    "            #seperate the head and the sequence\n",
    "            for line in read_file:\n",
    "                lines = list(line)\n",
    "                # the read line is the head of the sequence write it in head list\n",
    "                if lines[0] == head_start:\n",
    "                    head.append(line)\n",
    "                    seq.append(string_seq)\n",
    "                    seq1 = []\n",
    "                    #print (\"head\", head)\n",
    "\n",
    "                # the read line is a sequence writ it in a sequence list\n",
    "                if lines[0] != head_start:\n",
    "                    seq1.append(line)\n",
    "                    string_seq= str(seq1)\n",
    "                    print (\"string_seq\", string_seq)\n",
    "            seq.append(string_seq)      \n",
    "            print ('head', head)\n",
    "            print (\"seq\", seq)\n",
    "            \n",
    "            return seq\n",
    "    \n",
    "    #read a line ignore string after the whitspace, tab and not (a,c,g,u)\n",
    "    def _removeCommands(self, seq):\n",
    "        seq_list = []\n",
    "        not_added_string = []\n",
    "        input_seqs = seq\n",
    "        seqs = []\n",
    "        \n",
    "        #print (\"string seq2:\", seq)\n",
    "        for seq in input_seqs:\n",
    "            for i, letter in enumerate(seq):\n",
    "                seq = str(seq)                  \n",
    "                if letter == \"A\" or letter == \"C\" or letter == \"G\" or letter == \"U\":\n",
    "            #    if letter == {'a','c','g','u'}:\n",
    "                    letters = list(letter)\n",
    "                    seq_list = seq_list + letters\n",
    "                    #print ('new_seq:', seq_list)\n",
    "                    #print '******'\n",
    "\n",
    "                else:\n",
    "                    if letter == \" \" or letter != \"A\" or letter != \"C\" or letter != \"G\" or letter != \"U\":\n",
    "                        letters = list(letter)\n",
    "                        not_added_string = not_added_string + letters\n",
    "                        #print ('not_added:', not_added)\n",
    "                        #print '-----'\n",
    "        seqs.append(seq_list)\n",
    "        print (\"seqs\",seqs)\n",
    "                #print (\"seq_remove:\",seq)        \n",
    "        print ('final not_added:', not_added_string)\n",
    "        #print ('final seq_list:', seq_list)\n",
    "\n",
    "        return seqs\n",
    "\n",
    "#generate the graph for each read sequence\n",
    "    def _makeFastaGraph(self, seq):\n",
    "        G = nx.Graph()\n",
    "        for j,sequence in enumerate(seq):\n",
    "    #        print ('j', j)\n",
    "            print (\"sequence\", sequence)\n",
    "            sequences = list(sequence)\n",
    "            for i,letter in enumerate(sequences):\n",
    "                G.add_node(i, label = sequences[i])\n",
    "                if i > 0:\n",
    "                    G.add_edge(i-1, i, label = 'x')\n",
    "            return G"
   ]
  },
  {
   "cell_type": "markdown",
   "metadata": {},
   "source": [
    "# Experiment"
   ]
  },
  {
   "cell_type": "code",
   "execution_count": 113,
   "metadata": {
    "collapsed": false
   },
   "outputs": [
    {
     "name": "stdout",
     "output_type": "stream",
     "text": [
      "('string_seq', \"['GGGCCCAUAGCUCAGUGGUAGAGUGCCUCCUUUGCAAGGAGGAUGCCCUGGGUUCGAAUC comments\\\\n']\")\n",
      "('string_seq', \"['GGGCCCAUAGCUCAGUGGUAGAGUGCCUCCUUUGCAAGGAGGAUGCCCUGGGUUCGAAUC comments\\\\n', 'CCAGUGGGUCCA\\\\n']\")\n",
      "('string_seq', \"['CAUUAGAUGACUGAAAGCAAGUACUGGUCUCUUAAACCAUUUAAUAGUAAAUUAGCACUU\\\\n']\")\n",
      "('string_seq', \"['CAUUAGAUGACUGAAAGCAAGUACUGGUCUCUUAAACCAUUUAAUAGUAAAUUAGCACUU\\\\n', 'ACUUCUAAUGA\\\\n']\")\n",
      "('head', ['>AB003409.1/96-167\\n', '>AB009835.1/1-71\\n'])\n",
      "('seq', [[], \"['GGGCCCAUAGCUCAGUGGUAGAGUGCCUCCUUUGCAAGGAGGAUGCCCUGGGUUCGAAUC comments\\\\n', 'CCAGUGGGUCCA\\\\n']\", \"['CAUUAGAUGACUGAAAGCAAGUACUGGUCUCUUAAACCAUUUAAUAGUAAAUUAGCACUU\\\\n', 'ACUUCUAAUGA\\\\n']\"])\n",
      "('seqs', [['G', 'G', 'G', 'C', 'C', 'C', 'A', 'U', 'A', 'G', 'C', 'U', 'C', 'A', 'G', 'U', 'G', 'G', 'U', 'A', 'G', 'A', 'G', 'U', 'G', 'C', 'C', 'U', 'C', 'C', 'U', 'U', 'U', 'G', 'C', 'A', 'A', 'G', 'G', 'A', 'G', 'G', 'A', 'U', 'G', 'C', 'C', 'C', 'U', 'G', 'G', 'G', 'U', 'U', 'C', 'G', 'A', 'A', 'U', 'C', 'C', 'C', 'A', 'G', 'U', 'G', 'G', 'G', 'U', 'C', 'C', 'A', 'C', 'A', 'U', 'U', 'A', 'G', 'A', 'U', 'G', 'A', 'C', 'U', 'G', 'A', 'A', 'A', 'G', 'C', 'A', 'A', 'G', 'U', 'A', 'C', 'U', 'G', 'G', 'U', 'C', 'U', 'C', 'U', 'U', 'A', 'A', 'A', 'C', 'C', 'A', 'U', 'U', 'U', 'A', 'A', 'U', 'A', 'G', 'U', 'A', 'A', 'A', 'U', 'U', 'A', 'G', 'C', 'A', 'C', 'U', 'U', 'A', 'C', 'U', 'U', 'C', 'U', 'A', 'A', 'U', 'G', 'A']])\n",
      "('final not_added:', ['[', \"'\", ' ', 'c', 'o', 'm', 'm', 'e', 'n', 't', 's', '\\\\', 'n', \"'\", ',', ' ', \"'\", '\\\\', 'n', \"'\", ']', '[', \"'\", '\\\\', 'n', \"'\", ',', ' ', \"'\", '\\\\', 'n', \"'\", ']'])\n",
      "('path', '/home/alsheikm/Work/EDeN_examples/fasta/')\n"
     ]
    }
   ],
   "source": [
    "#Read fasta files and separate sequences from the head of the sequence\n",
    "fgraph = FastaToGraph()\n",
    "path = \"/home/alsheikm/Work/EDeN_examples/fasta/\"\n",
    "seqs = fgraph.SequeceWrapper(path)"
   ]
  },
  {
   "cell_type": "code",
   "execution_count": 111,
   "metadata": {
    "collapsed": false
   },
   "outputs": [
    {
     "name": "stdout",
     "output_type": "stream",
     "text": [
      "('sequence', 'G')\n"
     ]
    },
    {
     "data": {
      "image/png": "[encoded data removed]",
      "text/plain": [
       "<matplotlib.figure.Figure at 0x7ff10953ffd0>"
      ]
     },
     "metadata": {},
     "output_type": "display_data"
    }
   ],
   "source": [
    "#generating the graph\n",
    "for seq in seqs:\n",
    "    G = fgraph._makeFastaGraph(seq)\n",
    "    display.draw_graph(G, node_size=180, font_size=9, node_border=True, prog='neato')"
   ]
  },
  {
   "cell_type": "code",
   "execution_count": null,
   "metadata": {
    "collapsed": true
   },
   "outputs": [],
   "source": []
  }
 ],
 "metadata": {
  "kernelspec": {
   "display_name": "Python 2",
   "language": "python",
   "name": "python2"
  },
  "language_info": {
   "codemirror_mode": {
    "name": "ipython",
    "version": 2
   },
   "file_extension": ".py",
   "mimetype": "text/x-python",
   "name": "python",
   "nbconvert_exporter": "python",
   "pygments_lexer": "ipython2",
   "version": "2.7.11"
  }
 },
 "nbformat": 4,
 "nbformat_minor": 0
}
