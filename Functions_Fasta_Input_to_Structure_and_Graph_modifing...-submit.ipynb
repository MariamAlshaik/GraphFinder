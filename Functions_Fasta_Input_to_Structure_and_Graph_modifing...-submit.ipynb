{
 "cells": [
  {
   "cell_type": "markdown",
   "metadata": {},
   "source": [
    "# New tasks:\n",
    "- make a function/object that read a fasta file from disk and  (header, seq) pairs +\n",
    "- ex from:\n",
    ">AB003409.1/96-167\n",
    "GGGCCCAUAGCUCAGUGGUAGAGUGCCUCCUUUGCAAGGAGGAUGCCCUGGGUUCGAAUC comment\n",
    "CCAGUGGGUCCA\n",
    ">AB009835.1/1-71\n",
    "CAUUAGAUGACUGAAAGCAAGUACUGGUCUCUUAAACCAUUUAAUAGUAAAUacagugcCUU\n",
    "CAUUAGAUGACUGAAAGCAAGUACUGGUCUCUUAAACCAUUUAAUAGUAAAUacagugcCUU\n",
    "CAUUAGAUGACUGAAAGCAAGUACUGGUCUCUUAAACCAUUUAAUAGUAAAUacagugcCUU\n",
    "CAUUAGAUGACUGAAAGCAAGUACUGGUCUCUUAAACCAUUUAAUAGUAAAUacagugcCUU\n",
    "\n",
    "\n",
    ">AJGHDJHASGDJAS khsk skdjfhskdj slkshd skhksjdf\n",
    "CACGUAGCAUGCUAGCAUGCUAGCAUGCUAGCUAGCUGAC 276512764523765423764527365427365427542735427\n",
    "CAUCGUAGCUAGCUAGCUAGCUACG\n",
    "AUCGUAGUAGCUAGCUAGCUAGCUAGC\n",
    "\n",
    "- yield:\n",
    "(AB003409.1/96-167, GGGCCCAUAGCUCAGUGGUAGAGUGCCUCCUUUGCAAGGAGGAUGCCCUGGGUUCGAAUCCCAGUGGGUCCA)\n",
    "(AB009835.1/1-71,CAUUAGAUGACUGAAAGCAAGUACUGGUCUCUUAAACCAUUUAAUAGUAAAUacagugcCUUCAUUAGAUGACUGAAAGCAAGUACUGGUCUCUUAAACCAUUUAAUAGUAAAUacagugcCUUCAUUAGAUGACUGAAAGCAAGUACUGGUCUCUUAAACCAUUUAAUAGUAAAUacagugcCUUCAUUAGAUGACUGAAAGCAAGUACUGGUCUCUUAAACCAUUUAAUAGUAAAUacagugcCUU)\n",
    "(AJGHDJHASGDJAS khsk skdjfhskdj slkshd skhksjdf, CACGUAGCAUGCUAGCAUGCUAGCAUGCUAGCUAGCUGACCAUCGUAGCUAGCUAGCUAGCUACGAUCGUAGUAGCUAGCUAGCUAGCUAGC)\n",
    "\n",
    "- separately:\n",
    "- make a function that receives in input the list of sequences, and yields structure graphs (use RNAfold)"
   ]
  },
  {
   "cell_type": "code",
   "execution_count": null,
   "metadata": {
    "collapsed": true
   },
   "outputs": [],
   "source": [
    "%matplotlib inline\n",
    "import os, sys\n",
    "import subprocess as sp\n",
    "from itertools import cycle\n",
    "import networkx as nx\n",
    "import re\n",
    "from eden.util import display"
   ]
  },
  {
   "cell_type": "code",
   "execution_count": null,
   "metadata": {
    "collapsed": false
   },
   "outputs": [],
   "source": [
    "# read a fasta file separate the head and the sequence\n",
    "def _readFastaFile(file_path=None):\n",
    "    head_start = '>'\n",
    "    head = []\n",
    "    seq = []\n",
    "    seq_temps = []\n",
    "    string_seq = ''        \n",
    "    \n",
    "    #for file in os.listdir(path): #open file\n",
    "    read_file = open(file_path,'r') \n",
    "    \n",
    "    for line in read_file:\n",
    "        lines = list(line)\n",
    "            # the read line is the head of the sequence write it in head list\n",
    "        if lines[0] == head_start:\n",
    "            line = line.strip('\\n')\n",
    "            line = line.strip(head_start)\n",
    "            head.append(line)\n",
    "            seq.append(string_seq)\n",
    "            seq_temps = []\n",
    "\n",
    "            # the read line is a sequence write it in a sequence list\n",
    "            # remove the unwanted charachters and whitespace, tab\n",
    "        if lines[0] != head_start:\n",
    "            line = line.strip()\n",
    "            line = re.sub(r'\\ .*?\\ ', '', line)\n",
    "            seq_temps.append(line)\n",
    "            string_seq= ''.join(seq_temps)\n",
    "            print ('string_seq', string_seq)\n",
    "            string_seq = re.sub(r' ', '',string_seq)                \n",
    "    seq.append(string_seq)\n",
    "    #to remove empty head or seq\n",
    "    seq = filter(None, seq)\n",
    "    head_seq_zip = zip(head, seq)\n",
    "    print ('Sequences with comments', head_seq_zip)\n",
    "    return head_seq_zip"
   ]
  },
  {
   "cell_type": "code",
   "execution_count": null,
   "metadata": {
    "collapsed": true
   },
   "outputs": [],
   "source": [
    "file_path = \"/home/alsheikm/GitDir/EeDN_work/fasta/test2\"\n",
    "def _sequeceWrapper(file_path=None):\n",
    "    #path = \"/home/alsheikm/Work/EDeN_examples/fastaFiles/\"\n",
    "    zip_head_seqs = _readFastaFile(file_path)\n",
    "    print file_path\n",
    "    return zip_head_seqs\n",
    "    \n",
    "def _fold(seq):\n",
    "    head, seq, struc = _get_sequence_structure(seq)\n",
    "    #G = self._make_graph(seq, struc)\n",
    "    return  head, seq, struc "
   ]
  },
  {
   "cell_type": "markdown",
   "metadata": {},
   "source": [
    "## Get the sequence structure"
   ]
  },
  {
   "cell_type": "code",
   "execution_count": null,
   "metadata": {
    "collapsed": true
   },
   "outputs": [],
   "source": [
    "#call RNAfold to get the sequence structure\n",
    "def _get_sequence_structure(seqs):\n",
    "    if mode == 'RNAfold':\n",
    "        return _rnafold_wrapper(seqs)\n",
    "    else:\n",
    "        raise Exception('Not known: %s'% self.mode)\n",
    "    \n",
    "def _rnafold_wrapper(sequence):\n",
    "    head = sequence[0]\n",
    "    seq = sequence[1].split()[0]\n",
    "    flags='--noPS'\n",
    "    cmd = 'echo \"%s\" | RNAfold %s' % (seq, flags)\n",
    "    out = sp.check_output(cmd, shell=True)\n",
    "    #print out\n",
    "    text = out.strip().split('\\n')\n",
    "    print ('text:', text)\n",
    "    seq = text[0]\n",
    "    struc = text[1].split()[0]\n",
    "    return head, seq, struc"
   ]
  },
  {
   "cell_type": "markdown",
   "metadata": {},
   "source": [
    "## Build the Graph"
   ]
  },
  {
   "cell_type": "code",
   "execution_count": null,
   "metadata": {
    "collapsed": false
   },
   "outputs": [],
   "source": [
    "#Recognize basepairs and add them to the generated graph\n",
    "def _make_graph(head, seq, struc):\n",
    "    print (\"Graph title\", head)\n",
    "    open_pran = \"(\"\n",
    "    close_pran = \")\"\n",
    "    stack_o = []\n",
    "    stack_c = []\n",
    "    G = nx.Graph()\n",
    "    seq_struc_zip = zip(seq, struc)\n",
    "    #print seq_struc_zip\n",
    "    for i, k in enumerate(struc):\n",
    "        G.add_node(i, label = seq[i])\n",
    "        # connect with the next node\n",
    "        if i > 0:\n",
    "            G.add_edge(i-1, i, label= 'x')\n",
    "            \n",
    "        # find basepair and connect them\n",
    "        if struc[i] == open_pran:\n",
    "            j = i\n",
    "            stack_o.append(struc[j])\n",
    "            open_len = len(stack_o)\n",
    "\n",
    "        if struc[i] == close_pran:\n",
    "            stack_c.append(struc[i])\n",
    "            stack_o.pop()\n",
    "            G.add_edge(i, j, label = 'b')\n",
    "            j = j-1\n",
    "\n",
    "    return G "
   ]
  },
  {
   "cell_type": "markdown",
   "metadata": {},
   "source": [
    "# Experiment"
   ]
  },
  {
   "cell_type": "code",
   "execution_count": null,
   "metadata": {
    "collapsed": false,
    "scrolled": true
   },
   "outputs": [],
   "source": [
    "#generating the graph\n",
    "#seq,seqs are Not correct they do Not take the zipped output\n",
    "\n",
    "zip_head_seqs= _sequeceWrapper(file_path)\n",
    "print ('zip_head_seqs here', zip_head_seqs)\n",
    "for i, seq in enumerate(zip_head_seqs):\n",
    "    heads = seq[0]\n",
    "    seq1 = seq[1]\n",
    "    mode = 'RNAfold'\n",
    "    head, seq, struc =_fold(seq)\n",
    "    G = _make_graph(head, seq, struc)\n",
    "    display.draw_graph(G, node_size=180, font_size=9, node_border=True, prog='neato')"
   ]
  },
  {
   "cell_type": "markdown",
   "metadata": {},
   "source": [
    "## Note"
   ]
  }
 ],
 "metadata": {
  "kernelspec": {
   "display_name": "Python 2",
   "language": "python",
   "name": "python2"
  },
  "language_info": {
   "codemirror_mode": {
    "name": "ipython",
    "version": 2
   },
   "file_extension": ".py",
   "mimetype": "text/x-python",
   "name": "python",
   "nbconvert_exporter": "python",
   "pygments_lexer": "ipython2",
   "version": "2.7.11"
  }
 },
 "nbformat": 4,
 "nbformat_minor": 0
}
