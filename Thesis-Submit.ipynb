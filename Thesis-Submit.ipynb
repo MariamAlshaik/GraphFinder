{
 "cells": [
  {
   "cell_type": "markdown",
   "metadata": {},
   "source": [
    "## To-do Functions:\n",
    "- Read fasta file.     x\n",
    "- Read a directory with fasta files     x\n",
    "- Extract sequence and head.    x\n",
    "- recognize different types of information from the file.     x\n",
    "- Make graph.    x\n",
    "- Create new text file and write seqs and the different relations into it.  x"
   ]
  },
  {
   "cell_type": "code",
   "execution_count": 1,
   "metadata": {
    "collapsed": true
   },
   "outputs": [],
   "source": [
    "%matplotlib inline\n",
    "import os, sys\n",
    "import subprocess as sp\n",
    "from itertools import cycle\n",
    "import networkx as nx\n",
    "import re\n",
    "import ntpath\n",
    "from eden.util import display"
   ]
  },
  {
   "cell_type": "code",
   "execution_count": 2,
   "metadata": {
    "collapsed": false
   },
   "outputs": [],
   "source": [
    "\"\"\"read a fasta file separate the head and the sequence\"\"\"\n",
    "def _readFastaFile(file_path =None):\n",
    "    head_mark0 = '#'\n",
    "    head_mark1 = '='\n",
    "    head_mark2 = 'G'\n",
    "    head_mark3 = 'C'\n",
    "    head_list = []\n",
    "    sequence_list = []  \n",
    "    \n",
    "    #\"\"\" for file in os.listdir(path): #open file \"\"\"\n",
    "    read_file = open(file_path ,'r') \n",
    "    #print file_path\n",
    "    \n",
    "    for line in read_file:\n",
    "        \n",
    "        lines = list(line)\n",
    "            # the read line is the head of the sequence write it in head list\n",
    "        if lines[0] == head_mark0 and lines[1] == head_mark1 and lines[2] == head_mark2 and lines[3] == head_mark3:\n",
    "            #print ('read line',line)\n",
    "            line = line.strip('#=GC ')            \n",
    "            line = line.strip('\\n')\n",
    "            line = line.split(' ')\n",
    "            line = filter(None, line)\n",
    "            #print ('line',line)\n",
    "\n",
    "            head = line[0]\n",
    "            head_list.append(head)\n",
    "            #print ('head_list', head_list)\n",
    "            sequence = line[1].split()\n",
    "            sequence_list.append(sequence)\n",
    "            #print ('seq_list', sequence_list)\n",
    "            zip_head_seqs = zip(head_list, sequence_list)\n",
    "      \n",
    "    return zip_head_seqs"
   ]
  },
  {
   "cell_type": "code",
   "execution_count": 3,
   "metadata": {
    "collapsed": false
   },
   "outputs": [],
   "source": [
    "\"\"\"Recognize the different types of information (cons, sscons, consSS, entropy, cov)\"\"\"\n",
    "def _identifyInformationType(file_name, head_seq_list):\n",
    "\n",
    "    secondery_structure_s = []\n",
    "    conservation_s = []\n",
    "    conservation_stringth_s = []\n",
    "    entropy_0_s = []\n",
    "    entropy_1_s = []\n",
    "    entropy_2_s = []\n",
    "    entropy_3_s = []\n",
    "    coveration_s = []\n",
    "\n",
    "    for i, elemant in enumerate(head_seq_list):\n",
    "        #print elemant\n",
    "        #print i\n",
    "        #print ('head_seq_list[i]', head_seq_list[i])\n",
    "        info_item = head_seq_list[i]\n",
    "        \n",
    "        if info_item[0] == 'SS_cons':\n",
    "            secondery_structure_s.append(str(info_item[1]))\n",
    "            #print ('secondery_structure_s', secondery_structure_s)\n",
    "            \n",
    "        if info_item[0] == 'cons':\n",
    "            conservation_s.append(str(info_item[1]))\n",
    "            #print ('conservation', conservation_s)\n",
    "            \n",
    "        if info_item[0] == 'consSS':\n",
    "            conservation_stringth_s.append(info_item[1])\n",
    "            #print ('conservation_stringth_s', conservation_stringth_s)\n",
    "            \n",
    "        if info_item[0] == 'col_entropy_0':\n",
    "            entropy_0_s.append(info_item[1])\n",
    "            #print ('entropy_0_s', entropy_0_s)\n",
    "            \n",
    "        if info_item[0] == 'col_entropy_1':\n",
    "            entropy_1_s.append(info_item[1])\n",
    "            #print ('entropy_1_s', entropy_1_s)\n",
    "\n",
    "        if info_item[0] == 'col_entropy_2':\n",
    "            entropy_2_s.append(info_item[1])\n",
    "            #print ('entropy_2_s', entropy_2_s)\n",
    "            \n",
    "        if info_item[0] == 'col_entropy_3':\n",
    "            entropy_3_s.append(info_item[1])\n",
    "            #print ('entropy_3_s', entropy_3_s)    \n",
    "            \n",
    "        if info_item[0] == 'cov_SS_cons':\n",
    "            #print('head_seq_list[1]', head_seq_list[1])\n",
    "            coveration_s.append(info_item[1])\n",
    "            #print ('coveration_s', coveration_s)\n",
    "    #print '#########'\n",
    "    zip_head_seq_struc = zip(conservation_s, secondery_structure_s)\n",
    "    #print zip_head_seq_struc\n",
    "    return zip_head_seq_struc"
   ]
  },
  {
   "cell_type": "code",
   "execution_count": 4,
   "metadata": {
    "collapsed": false
   },
   "outputs": [],
   "source": [
    "\"\"\"Writ seq file as t \\n v or V info \\n e v1v2\\n\"\"\"\n",
    "def _writeGraphFile(file_path, info_type, struc):\n",
    "    \n",
    "    next_relation = 'next'\n",
    "    #basepair_relation = 'bp'\n",
    "    \n",
    "    dir_name = ntpath.dirname(file_path)\n",
    "    new_file_name = ntpath.splitext( ntpath.basename(file_path))[0]\n",
    "    new_file_name = dir_name + \"/\" + new_file_name + \".\" + \"seq\"\n",
    "    #print new_file_name \n",
    "    new_file = open(ntpath.join(file_path, new_file_name), 'w+')\n",
    "    new_file.write('t\\n')\n",
    "    \n",
    "    info_types = list(info_type)\n",
    "    for i, info in enumerate(info_types):\n",
    "        new_file.write('V' + ' ' + str(i) + ' ' + info + '\\n')\n",
    "        if i != 0:\n",
    "            j = i-1\n",
    "            new_file.write('e' + ' ' + str(j) + ' ' + str(i) + ' ' + next_relation + '\\n')\n",
    "    basepair_relation = _identifyBasepair(new_file, struc)\n",
    "    new_file.close()\n",
    "    "
   ]
  },
  {
   "cell_type": "code",
   "execution_count": 5,
   "metadata": {
    "collapsed": false
   },
   "outputs": [],
   "source": [
    "'''Recognize basepairs'''\n",
    "def _identifyBasepair(new_file, struc):\n",
    "    \n",
    "    open_pran = \"<\"\n",
    "    close_pran = \">\"\n",
    "    basepair_relation = 'bp'\n",
    "    stack_o = []\n",
    "    stack_c = []\n",
    "\n",
    "    #seq_struc_zip = zip(seq, struc)\n",
    "    for i, k in enumerate(struc):           \n",
    "        \"\"\"find basepair and connect them\"\"\"\n",
    "        if struc[i] == open_pran:\n",
    "            j = i\n",
    "            stack_o.append(struc[j])\n",
    "            #print ('struc[i]', struc[j])\n",
    "            open_len = len(stack_o)\n",
    "            #print ('open_len', open_len)\n",
    "\n",
    "        if struc[i] == close_pran:\n",
    "            stack_c.append(struc[i])\n",
    "            stack_o.pop()\n",
    "            new_file.write('e' + ' ' + str(j) + ' ' + str(i) + ' ' + basepair_relation + '\\n')\n",
    "            j = j-1\n",
    "\n",
    "    #return G "
   ]
  },
  {
   "cell_type": "code",
   "execution_count": 6,
   "metadata": {
    "collapsed": false
   },
   "outputs": [],
   "source": [
    "'''Recognize basepairs and include them to the generated graph'''\n",
    "def _makeGraph(head, seq, struc):\n",
    "    \n",
    "    print (\"Graph title\", head)\n",
    "    open_pran = \"<\" or \"(\" or \"[\" or \"{\"\n",
    "    close_pran = \">\" or \")\" or \"]\" or \"}\"\n",
    "    stack_o = []\n",
    "    stack_c = []\n",
    "    G = nx.Graph()\n",
    "\n",
    "    seq_struc_zip = zip(seq, struc)\n",
    "\n",
    "    for i, k in enumerate(struc):\n",
    "        G.add_node(i, label = seq[i])\n",
    "        # connect with the next node \n",
    "        if i > 0:\n",
    "            G.add_edge(i-1, i, label= 'x')\n",
    "           \n",
    "        \"\"\"find basepair and connect them\"\"\"\n",
    "        if struc[i] == open_pran:\n",
    "            j = i\n",
    "            stack_o.append(struc[j])\n",
    "            open_len = len(stack_o)\n",
    "\n",
    "        if struc[i] == close_pran:\n",
    "            stack_c.append(struc[i])\n",
    "            stack_o.pop()\n",
    "            G.add_edge(i, j, label = 'b')\n",
    "            j = j-1\n",
    "\n",
    "    return G "
   ]
  },
  {
   "cell_type": "markdown",
   "metadata": {},
   "source": [
    "## Experiments:"
   ]
  },
  {
   "cell_type": "code",
   "execution_count": 7,
   "metadata": {
    "collapsed": false,
    "scrolled": true
   },
   "outputs": [],
   "source": [
    "def _readFileGraphGenerating(file_path=None):\n",
    "    file_name = ntpath.basename(file_path)\n",
    "    head = file_name\n",
    "    zip_head_seqs = _readFastaFile(file_path)\n",
    "    #print ('zip_head_seqs', zip_head_seqs)\n",
    "    #print '**************'\n",
    "    info_type = _identifyInformationType(head, zip_head_seqs)\n",
    "    for i, item in enumerate(info_type):   \n",
    "        #print ('zip', info_type)\n",
    "        seq = item[0].strip('[\\']')\n",
    "        print ('seq', seq)\n",
    "        struc = item[1].strip('[\\']')\n",
    "        print ('stru', struc)\n",
    "        write_file = _writeGraphFile(file_path, seq, struc)\n",
    "        G = _makeGraph(head, seq, struc)\n",
    "        display.draw_graph(G, node_size=180, font_size=9, node_border=True, prog='neato')"
   ]
  },
  {
   "cell_type": "markdown",
   "metadata": {},
   "source": [
    "## Read one file"
   ]
  },
  {
   "cell_type": "code",
   "execution_count": 8,
   "metadata": {
    "collapsed": false,
    "scrolled": true
   },
   "outputs": [
    {
     "name": "stdout",
     "output_type": "stream",
     "text": [
      "('seq', 'nnCC-nGn-CCGGGCCCCUCUGGCAGYnC--n--Ann--GnRCUGYGAUGUCGGA-YUGGnn')\n",
      "('stru', '<<<<.<<-.<<<<---------<<<<<<<.._.._._..>>>>>>>---->>>>-.>>>>>>')\n",
      "('i', 0)\n",
      "('j', 0)\n",
      "('i', 1)\n",
      "('j', 1)\n",
      "('i', 2)\n",
      "('j', 2)\n",
      "('i', 3)\n",
      "('j', 3)\n",
      "('i', 5)\n",
      "('j', 5)\n",
      "('i', 6)\n",
      "('j', 6)\n",
      "('i', 9)\n",
      "('j', 9)\n",
      "('i', 10)\n",
      "('j', 10)\n",
      "('i', 11)\n",
      "('j', 11)\n",
      "('i', 12)\n",
      "('j', 12)\n",
      "('i', 22)\n",
      "('j', 22)\n",
      "('i', 23)\n",
      "('j', 23)\n",
      "('i', 24)\n",
      "('j', 24)\n",
      "('i', 25)\n",
      "('j', 25)\n",
      "('i', 26)\n",
      "('j', 26)\n",
      "('i', 27)\n",
      "('j', 27)\n",
      "('i', 28)\n",
      "('j', 28)\n",
      "('Graph title', '550-53949-1-0.sto')\n"
     ]
    },
    {
     "data": {
      "image/png": "[encoded data removed]",
      "text/plain": [
       "<matplotlib.figure.Figure at 0x7f1128b1d3d0>"
      ]
     },
     "metadata": {},
     "output_type": "display_data"
    }
   ],
   "source": [
    "file_path = \"/home/alsheikm/GitDir/EeDN_work/StoExamples/StoExmapleSmall/positives-sto/550-53949-1-0.sto\"\n",
    "File_to_Graph = _readFileGraphGenerating(file_path)"
   ]
  },
  {
   "cell_type": "markdown",
   "metadata": {},
   "source": [
    "## Read a directory"
   ]
  },
  {
   "cell_type": "code",
   "execution_count": null,
   "metadata": {
    "collapsed": false
   },
   "outputs": [],
   "source": [
    "\"\"\"read a fasta file separate the head and the sequence\"\"\"\n",
    "def _readFastaDir(file_path):\n",
    "    head_mark0 = '#'\n",
    "    head_mark1 = '='\n",
    "    head_mark2 = 'G'\n",
    "    head_mark3 = 'C'\n",
    "    head_list = []\n",
    "    sequence_list = []  \n",
    "    \n",
    "    #print 'in reading'\n",
    "    \n",
    "    #\"\"\" for file in os.listdir(path): #open file \"\"\"\n",
    "    #read_file = open(os.path.join( folder_name, file_name) ,'r')\n",
    "    read_file = open(file_path ,'r')    \n",
    "    for line in read_file:\n",
    "        lines = list(line)\n",
    "            # the read line is the head of the sequence write it in head list\n",
    "        if lines[0] == head_mark0 and lines[1] == head_mark1 and lines[2] == head_mark2 and lines[3] == head_mark3:\n",
    "            #print ('read line',line)\n",
    "            line = line.strip('#=GC ')            \n",
    "            line = line.strip('\\n')\n",
    "            line = line.split(' ')\n",
    "            line = filter(None, line)\n",
    "            #print ('line',line)\n",
    "            \n",
    "            head = line[0]\n",
    "            head_list.append(head)\n",
    "            #print ('head_list', head_list)\n",
    "            sequence = line[1].split()\n",
    "            sequence_list.append(sequence)\n",
    "            #print ('seq_list', sequence_list)\n",
    "            zip_head_seqs = zip(head_list, sequence_list)\n",
    "      \n",
    "    return zip_head_seqs"
   ]
  },
  {
   "cell_type": "code",
   "execution_count": null,
   "metadata": {
    "collapsed": false,
    "scrolled": true
   },
   "outputs": [],
   "source": [
    "#directory = \"/home/alsheikm/GitDir/EeDN_work/StoExamples/StoExmapleSmall\"\n",
    "def _readFolderGraphGenerating(directory = None):\n",
    "    for file_path in os.listdir(directory):\n",
    "        print file_path\n",
    "        folder_path = os.path.join( directory, file_path)\n",
    "        #print folder_path\n",
    "        for file_name in os.listdir(folder_path):\n",
    "            '''test that the file has the sto extension'''\n",
    "            file_extention = os.path.splitext(file_name)[-1].lower()\n",
    "            #print file_extention\n",
    "            if file_extention == '.sto': \n",
    "                #print file_name\n",
    "                #print folder_name\n",
    "                head = file_name\n",
    "                #print file_complete_path\n",
    "                file_complete_path = os.path.join( folder_path, file_name)\n",
    "                #print file_complete_path\n",
    "                zip_head_seqs = _readFastaDir(file_complete_path)\n",
    "                #print ('zip_head_seqs', zip_head_seqs)\n",
    "                info_type = _identifyInformationType(head, zip_head_seqs)\n",
    "                for i, item in enumerate(info_type):   \n",
    "                    #print ('zip', info_type)\n",
    "                    seq = item[0].strip('[\\']')\n",
    "                    print ('seq', seq)\n",
    "                    struc = item[1].strip('[\\']')\n",
    "                    print ('stru', struc)\n",
    "                    #file_complete_path = ntpath.join(folder_path, file_name)\n",
    "                    write_file = _writeGraphFile(file_complete_path, seq)\n",
    "                    G = _makeGraph(head, seq, struc)\n",
    "                    display.draw_graph(G, node_size=180, font_size=9, node_border=True, prog='neato')"
   ]
  },
  {
   "cell_type": "code",
   "execution_count": null,
   "metadata": {
    "collapsed": false,
    "scrolled": true
   },
   "outputs": [],
   "source": [
    "directory = \"/home/alsheikm/GitDir/EeDN_work/StoExamples/StoExmapleSmall\"\n",
    "Folder_to_Graph = _readFolderGraphGenerating(directory)"
   ]
  }
 ],
 "metadata": {
  "kernelspec": {
   "display_name": "Python 2",
   "language": "python",
   "name": "python2"
  },
  "language_info": {
   "codemirror_mode": {
    "name": "ipython",
    "version": 2
   },
   "file_extension": ".py",
   "mimetype": "text/x-python",
   "name": "python",
   "nbconvert_exporter": "python",
   "pygments_lexer": "ipython2",
   "version": "2.7.11"
  }
 },
 "nbformat": 4,
 "nbformat_minor": 0
}
